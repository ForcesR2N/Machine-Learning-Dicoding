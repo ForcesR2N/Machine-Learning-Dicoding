{
 "cells": [
  {
   "cell_type": "markdown",
   "metadata": {
    "id": "0tvAKGat01Sd"
   },
   "source": [
    "# **Penting**\n",
    "- Jangan mengubah atau menambahkan cell text yang sudah disediakan, Anda hanya perlu mengerjakan cell code yang sudah disediakan.\n",
    "- Pastikan seluruh kriteria memiliki output yang sesuai, karena jika tidak ada output dianggap tidak selesai.\n",
    "- Misal, Anda menggunakan df = df.dropna() silakan gunakan df.isnull().sum() sebagai tanda sudah berhasil. Silakan sesuaikan seluruh output dengan perintah yang sudah disediakan.\n",
    "- Pastikan Anda melakukan Run All sebelum mengirimkan submission untuk memastikan seluruh cell berjalan dengan baik.\n",
    "- Pastikan Anda menggunakan variabel df dari awal sampai akhir dan tidak diperbolehkan mengganti nama variabel tersebut.\n",
    "- Hapus simbol pagar (#) pada kode yang bertipe komentar jika Anda menerapkan kriteria tambahan\n",
    "- Biarkan simbol pagar (#) jika Anda tidak menerapkan kriteria tambahan\n",
    "- Pastikan Anda mengerjakan sesuai section yang sudah diberikan tanpa mengubah judul atau header yang disediakan."
   ]
  },
  {
   "cell_type": "markdown",
   "metadata": {
    "id": "sKi5D9qVVJvY"
   },
   "source": [
    "# **INFORMASI DATASET**\n",
    "\n",
    "Dataset ini menyajikan gambaran mendalam mengenai perilaku transaksi dan pola aktivitas keuangan, sehingga sangat ideal untuk eksplorasi **deteksi penipuan (fraud detection)** dan **identifikasi anomali**. Dataset ini mencakup **2.512 sampel data transaksi**, yang mencakup berbagai atribut transaksi, demografi nasabah, dan pola penggunaan.\n",
    "\n",
    "Setiap entri memberikan wawasan komprehensif terhadap perilaku transaksi, memungkinkan analisis untuk **keamanan finansial** dan pengembangan model prediktif.\n",
    "\n",
    "## Fitur Utama\n",
    "\n",
    "- **`TransactionID`**: Pengidentifikasi unik alfanumerik untuk setiap transaksi.  \n",
    "- **`AccountID`**: ID unik untuk setiap akun, dapat memiliki banyak transaksi.  \n",
    "- **`TransactionAmount`**: Nilai transaksi dalam mata uang, mulai dari pengeluaran kecil hingga pembelian besar.  \n",
    "- **`TransactionDate`**: Tanggal dan waktu transaksi terjadi.  \n",
    "- **`TransactionType`**: Tipe transaksi berupa `'Credit'` atau `'Debit'`.  \n",
    "- **`Location`**: Lokasi geografis transaksi (nama kota di Amerika Serikat).  \n",
    "- **`DeviceID`**: ID perangkat yang digunakan dalam transaksi.  \n",
    "- **`IP Address`**: Alamat IPv4 yang digunakan saat transaksi, dapat berubah untuk beberapa akun.  \n",
    "- **`MerchantID`**: ID unik merchant, menunjukkan merchant utama dan anomali transaksi.  \n",
    "- **`AccountBalance`**: Saldo akun setelah transaksi berlangsung.  \n",
    "- **`PreviousTransactionDate`**: Tanggal transaksi terakhir pada akun, berguna untuk menghitung frekuensi transaksi.  \n",
    "- **`Channel`**: Kanal transaksi seperti `Online`, `ATM`, atau `Branch`.  \n",
    "- **`CustomerAge`**: Usia pemilik akun.  \n",
    "- **`CustomerOccupation`**: Profesi pengguna seperti `Dokter`, `Insinyur`, `Mahasiswa`, atau `Pensiunan`.  \n",
    "- **`TransactionDuration`**: Lama waktu transaksi (dalam detik).  \n",
    "- **`LoginAttempts`**: Jumlah upaya login sebelum transaksi—jumlah tinggi bisa mengindikasikan anomali.\n",
    "\n",
    "Tugas kamu adalah membuat model clustering yang selanjutnya akan digunakan untuk membuat model klasifikasi.\n"
   ]
  },
  {
   "cell_type": "markdown",
   "metadata": {
    "id": "fKADPWcFKlj3"
   },
   "source": [
    "# **1. Import Library**\n",
    "Pada tahap ini, Anda perlu mengimpor beberapa pustaka (library) Python yang dibutuhkan untuk analisis data dan pembangunan model machine learning. Semua library yang dibutuhkan harus **import** di **cell** ini, jika ada library yang dijalankan di cell lain maka **submission langsung ditolak**"
   ]
  },
  {
   "cell_type": "code",
   "execution_count": 1,
   "metadata": {
    "id": "BlmvjLY9M4Yj"
   },
   "outputs": [],
   "source": [
    "import pandas as pd\n",
    "import numpy as np\n",
    "import matplotlib.pyplot as plt\n",
    "import seaborn as sns\n",
    "from sklearn.preprocessing import MinMaxScaler, LabelEncoder\n",
    "from sklearn.cluster import KMeans\n",
    "from sklearn.metrics import silhouette_score\n",
    "from yellowbrick.cluster import KElbowVisualizer\n",
    "import joblib\n",
    "import warnings\n",
    "warnings.filterwarnings('ignore')"
   ]
  },
  {
   "cell_type": "markdown",
   "metadata": {
    "id": "f3YIEnAFKrKL"
   },
   "source": [
    "# **2. Memuat Dataset**\n",
    "Pada tahap ini, Anda perlu memuat dataset ke dalam notebook lalu mengecek informasi dataset sebelum nantinya dilakukan pembersihan. Hal-hal yang perlu dilakukan pada tahapan ini yaitu:\n",
    "1. **Memahami Struktur Data**\n",
    "   - Dataset harus mengambil referensi wajib digunakan (bisa dilihat [Disini](https://drive.google.com/drive/folders/1Zs7VmPZ-jNwsRlMKH65Ea-LApSwx6lKx?usp=drive_link))\n",
    "   - Melakukan loading dataset ke dalam notebook dan menampilkan 5 baris pertama dengan function `head`.\n",
    "   - Tinjau jumlah baris kolom dan jenis data dalam dataset dengan function `info`.  \n",
    "   - Menampilkan statistik deskriptif dataset dengan menjalankan `describe`.\n",
    "   - Pastikan **setiap function tersebut** memiliki **output pada setiap cell** code. Jika tidak **submission langsung ditolak**\n",
    "   "
   ]
  },
  {
   "cell_type": "markdown",
   "metadata": {
    "id": "JgKXTwx2LMQA"
   },
   "source": [
    "Gunakan code ini untuk melakukan load data secara otomatis tanpa harus download data tersebut secara manual:\n",
    "```python\n",
    "url='https://drive.google.com/uc?id=1gnLO9qvEPqv1uBt1928AcsCmdvzqjC5m'\n",
    "df = pd.read_csv(url)\n",
    "```"
   ]
  },
  {
   "cell_type": "markdown",
   "metadata": {
    "id": "9d2RyUOuefWa"
   },
   "source": [
    "Penting: pada kriteria pertama hindari penggunaan print() dan display() karena seluruh fungsi yang digunakan sudah memiliki standar output dan menghasilkan output yang diharapkan.\n",
    "\n",
    "Kriteria 1 akan ditolak ketika:\n",
    "- print(__.head())\n",
    "- display(___.head())\n",
    "dst\n",
    "\n",
    "Kriteria 1 akan diterima ketika Anda menggunakan fungsi yang diminta tanpa menambahkan deskripsi apapun."
   ]
  },
  {
   "cell_type": "code",
   "execution_count": 2,
   "metadata": {
    "id": "-tfuxA86YztE"
   },
   "outputs": [],
   "source": [
    "df = pd.read_csv('bank_transactions_data_edited.csv')"
   ]
  },
  {
   "cell_type": "code",
   "execution_count": 3,
   "metadata": {
    "id": "GHCGNTyrM5fS"
   },
   "outputs": [
    {
     "data": {
      "text/html": [
       "<div>\n",
       "<style scoped>\n",
       "    .dataframe tbody tr th:only-of-type {\n",
       "        vertical-align: middle;\n",
       "    }\n",
       "\n",
       "    .dataframe tbody tr th {\n",
       "        vertical-align: top;\n",
       "    }\n",
       "\n",
       "    .dataframe thead th {\n",
       "        text-align: right;\n",
       "    }\n",
       "</style>\n",
       "<table border=\"1\" class=\"dataframe\">\n",
       "  <thead>\n",
       "    <tr style=\"text-align: right;\">\n",
       "      <th></th>\n",
       "      <th>TransactionID</th>\n",
       "      <th>AccountID</th>\n",
       "      <th>TransactionAmount</th>\n",
       "      <th>TransactionDate</th>\n",
       "      <th>TransactionType</th>\n",
       "      <th>Location</th>\n",
       "      <th>DeviceID</th>\n",
       "      <th>IP Address</th>\n",
       "      <th>MerchantID</th>\n",
       "      <th>Channel</th>\n",
       "      <th>CustomerAge</th>\n",
       "      <th>CustomerOccupation</th>\n",
       "      <th>TransactionDuration</th>\n",
       "      <th>LoginAttempts</th>\n",
       "      <th>AccountBalance</th>\n",
       "      <th>PreviousTransactionDate</th>\n",
       "    </tr>\n",
       "  </thead>\n",
       "  <tbody>\n",
       "    <tr>\n",
       "      <th>0</th>\n",
       "      <td>TX000001</td>\n",
       "      <td>AC00128</td>\n",
       "      <td>14.09</td>\n",
       "      <td>2023-04-11 16:29:14</td>\n",
       "      <td>Debit</td>\n",
       "      <td>San Diego</td>\n",
       "      <td>D000380</td>\n",
       "      <td>162.198.218.92</td>\n",
       "      <td>M015</td>\n",
       "      <td>ATM</td>\n",
       "      <td>70.0</td>\n",
       "      <td>Doctor</td>\n",
       "      <td>81.0</td>\n",
       "      <td>1.0</td>\n",
       "      <td>5112.21</td>\n",
       "      <td>2024-11-04 08:08:08</td>\n",
       "    </tr>\n",
       "    <tr>\n",
       "      <th>1</th>\n",
       "      <td>TX000002</td>\n",
       "      <td>AC00455</td>\n",
       "      <td>376.24</td>\n",
       "      <td>2023-06-27 16:44:19</td>\n",
       "      <td>Debit</td>\n",
       "      <td>Houston</td>\n",
       "      <td>D000051</td>\n",
       "      <td>13.149.61.4</td>\n",
       "      <td>M052</td>\n",
       "      <td>ATM</td>\n",
       "      <td>68.0</td>\n",
       "      <td>Doctor</td>\n",
       "      <td>141.0</td>\n",
       "      <td>1.0</td>\n",
       "      <td>13758.91</td>\n",
       "      <td>2024-11-04 08:09:35</td>\n",
       "    </tr>\n",
       "    <tr>\n",
       "      <th>2</th>\n",
       "      <td>TX000003</td>\n",
       "      <td>AC00019</td>\n",
       "      <td>126.29</td>\n",
       "      <td>2023-07-10 18:16:08</td>\n",
       "      <td>Debit</td>\n",
       "      <td>Mesa</td>\n",
       "      <td>D000235</td>\n",
       "      <td>215.97.143.157</td>\n",
       "      <td>M009</td>\n",
       "      <td>Online</td>\n",
       "      <td>19.0</td>\n",
       "      <td>Student</td>\n",
       "      <td>56.0</td>\n",
       "      <td>1.0</td>\n",
       "      <td>1122.35</td>\n",
       "      <td>2024-11-04 08:07:04</td>\n",
       "    </tr>\n",
       "    <tr>\n",
       "      <th>3</th>\n",
       "      <td>TX000004</td>\n",
       "      <td>AC00070</td>\n",
       "      <td>184.50</td>\n",
       "      <td>2023-05-05 16:32:11</td>\n",
       "      <td>Debit</td>\n",
       "      <td>Raleigh</td>\n",
       "      <td>D000187</td>\n",
       "      <td>200.13.225.150</td>\n",
       "      <td>M002</td>\n",
       "      <td>Online</td>\n",
       "      <td>26.0</td>\n",
       "      <td>Student</td>\n",
       "      <td>25.0</td>\n",
       "      <td>1.0</td>\n",
       "      <td>8569.06</td>\n",
       "      <td>2024-11-04 08:09:06</td>\n",
       "    </tr>\n",
       "    <tr>\n",
       "      <th>4</th>\n",
       "      <td>TX000005</td>\n",
       "      <td>AC00411</td>\n",
       "      <td>13.45</td>\n",
       "      <td>2023-10-16 17:51:24</td>\n",
       "      <td>Credit</td>\n",
       "      <td>Atlanta</td>\n",
       "      <td>D000308</td>\n",
       "      <td>65.164.3.100</td>\n",
       "      <td>M091</td>\n",
       "      <td>Online</td>\n",
       "      <td>NaN</td>\n",
       "      <td>Student</td>\n",
       "      <td>198.0</td>\n",
       "      <td>1.0</td>\n",
       "      <td>7429.40</td>\n",
       "      <td>2024-11-04 08:06:39</td>\n",
       "    </tr>\n",
       "  </tbody>\n",
       "</table>\n",
       "</div>"
      ],
      "text/plain": [
       "  TransactionID AccountID  TransactionAmount      TransactionDate  \\\n",
       "0      TX000001   AC00128              14.09  2023-04-11 16:29:14   \n",
       "1      TX000002   AC00455             376.24  2023-06-27 16:44:19   \n",
       "2      TX000003   AC00019             126.29  2023-07-10 18:16:08   \n",
       "3      TX000004   AC00070             184.50  2023-05-05 16:32:11   \n",
       "4      TX000005   AC00411              13.45  2023-10-16 17:51:24   \n",
       "\n",
       "  TransactionType   Location DeviceID      IP Address MerchantID Channel  \\\n",
       "0           Debit  San Diego  D000380  162.198.218.92       M015     ATM   \n",
       "1           Debit    Houston  D000051     13.149.61.4       M052     ATM   \n",
       "2           Debit       Mesa  D000235  215.97.143.157       M009  Online   \n",
       "3           Debit    Raleigh  D000187  200.13.225.150       M002  Online   \n",
       "4          Credit    Atlanta  D000308    65.164.3.100       M091  Online   \n",
       "\n",
       "   CustomerAge CustomerOccupation  TransactionDuration  LoginAttempts  \\\n",
       "0         70.0             Doctor                 81.0            1.0   \n",
       "1         68.0             Doctor                141.0            1.0   \n",
       "2         19.0            Student                 56.0            1.0   \n",
       "3         26.0            Student                 25.0            1.0   \n",
       "4          NaN            Student                198.0            1.0   \n",
       "\n",
       "   AccountBalance PreviousTransactionDate  \n",
       "0         5112.21     2024-11-04 08:08:08  \n",
       "1        13758.91     2024-11-04 08:09:35  \n",
       "2         1122.35     2024-11-04 08:07:04  \n",
       "3         8569.06     2024-11-04 08:09:06  \n",
       "4         7429.40     2024-11-04 08:06:39  "
      ]
     },
     "execution_count": 3,
     "metadata": {},
     "output_type": "execute_result"
    }
   ],
   "source": [
    "df.head()"
   ]
  },
  {
   "cell_type": "code",
   "execution_count": 4,
   "metadata": {
    "id": "0MgRVyMLnR5h"
   },
   "outputs": [
    {
     "name": "stdout",
     "output_type": "stream",
     "text": [
      "<class 'pandas.core.frame.DataFrame'>\n",
      "RangeIndex: 2537 entries, 0 to 2536\n",
      "Data columns (total 16 columns):\n",
      " #   Column                   Non-Null Count  Dtype  \n",
      "---  ------                   --------------  -----  \n",
      " 0   TransactionID            2508 non-null   object \n",
      " 1   AccountID                2516 non-null   object \n",
      " 2   TransactionAmount        2511 non-null   float64\n",
      " 3   TransactionDate          2509 non-null   object \n",
      " 4   TransactionType          2507 non-null   object \n",
      " 5   Location                 2507 non-null   object \n",
      " 6   DeviceID                 2507 non-null   object \n",
      " 7   IP Address               2517 non-null   object \n",
      " 8   MerchantID               2514 non-null   object \n",
      " 9   Channel                  2510 non-null   object \n",
      " 10  CustomerAge              2519 non-null   float64\n",
      " 11  CustomerOccupation       2514 non-null   object \n",
      " 12  TransactionDuration      2511 non-null   float64\n",
      " 13  LoginAttempts            2516 non-null   float64\n",
      " 14  AccountBalance           2510 non-null   float64\n",
      " 15  PreviousTransactionDate  2513 non-null   object \n",
      "dtypes: float64(5), object(11)\n",
      "memory usage: 317.2+ KB\n"
     ]
    }
   ],
   "source": [
    "df.info()"
   ]
  },
  {
   "cell_type": "code",
   "execution_count": 5,
   "metadata": {
    "id": "hN9KsJPonVKT"
   },
   "outputs": [
    {
     "data": {
      "text/html": [
       "<div>\n",
       "<style scoped>\n",
       "    .dataframe tbody tr th:only-of-type {\n",
       "        vertical-align: middle;\n",
       "    }\n",
       "\n",
       "    .dataframe tbody tr th {\n",
       "        vertical-align: top;\n",
       "    }\n",
       "\n",
       "    .dataframe thead th {\n",
       "        text-align: right;\n",
       "    }\n",
       "</style>\n",
       "<table border=\"1\" class=\"dataframe\">\n",
       "  <thead>\n",
       "    <tr style=\"text-align: right;\">\n",
       "      <th></th>\n",
       "      <th>TransactionAmount</th>\n",
       "      <th>CustomerAge</th>\n",
       "      <th>TransactionDuration</th>\n",
       "      <th>LoginAttempts</th>\n",
       "      <th>AccountBalance</th>\n",
       "    </tr>\n",
       "  </thead>\n",
       "  <tbody>\n",
       "    <tr>\n",
       "      <th>count</th>\n",
       "      <td>2511.000000</td>\n",
       "      <td>2519.000000</td>\n",
       "      <td>2511.000000</td>\n",
       "      <td>2516.000000</td>\n",
       "      <td>2510.000000</td>\n",
       "    </tr>\n",
       "    <tr>\n",
       "      <th>mean</th>\n",
       "      <td>297.656468</td>\n",
       "      <td>44.678444</td>\n",
       "      <td>119.422939</td>\n",
       "      <td>1.121622</td>\n",
       "      <td>5113.438124</td>\n",
       "    </tr>\n",
       "    <tr>\n",
       "      <th>std</th>\n",
       "      <td>292.230367</td>\n",
       "      <td>17.837359</td>\n",
       "      <td>70.078513</td>\n",
       "      <td>0.594469</td>\n",
       "      <td>3897.975861</td>\n",
       "    </tr>\n",
       "    <tr>\n",
       "      <th>min</th>\n",
       "      <td>0.260000</td>\n",
       "      <td>18.000000</td>\n",
       "      <td>10.000000</td>\n",
       "      <td>1.000000</td>\n",
       "      <td>101.250000</td>\n",
       "    </tr>\n",
       "    <tr>\n",
       "      <th>25%</th>\n",
       "      <td>81.310000</td>\n",
       "      <td>27.000000</td>\n",
       "      <td>63.000000</td>\n",
       "      <td>1.000000</td>\n",
       "      <td>1504.727500</td>\n",
       "    </tr>\n",
       "    <tr>\n",
       "      <th>50%</th>\n",
       "      <td>211.360000</td>\n",
       "      <td>45.000000</td>\n",
       "      <td>112.000000</td>\n",
       "      <td>1.000000</td>\n",
       "      <td>4734.110000</td>\n",
       "    </tr>\n",
       "    <tr>\n",
       "      <th>75%</th>\n",
       "      <td>413.105000</td>\n",
       "      <td>59.000000</td>\n",
       "      <td>161.000000</td>\n",
       "      <td>1.000000</td>\n",
       "      <td>7672.687500</td>\n",
       "    </tr>\n",
       "    <tr>\n",
       "      <th>max</th>\n",
       "      <td>1919.110000</td>\n",
       "      <td>80.000000</td>\n",
       "      <td>300.000000</td>\n",
       "      <td>5.000000</td>\n",
       "      <td>14977.990000</td>\n",
       "    </tr>\n",
       "  </tbody>\n",
       "</table>\n",
       "</div>"
      ],
      "text/plain": [
       "       TransactionAmount  CustomerAge  TransactionDuration  LoginAttempts  \\\n",
       "count        2511.000000  2519.000000          2511.000000    2516.000000   \n",
       "mean          297.656468    44.678444           119.422939       1.121622   \n",
       "std           292.230367    17.837359            70.078513       0.594469   \n",
       "min             0.260000    18.000000            10.000000       1.000000   \n",
       "25%            81.310000    27.000000            63.000000       1.000000   \n",
       "50%           211.360000    45.000000           112.000000       1.000000   \n",
       "75%           413.105000    59.000000           161.000000       1.000000   \n",
       "max          1919.110000    80.000000           300.000000       5.000000   \n",
       "\n",
       "       AccountBalance  \n",
       "count     2510.000000  \n",
       "mean      5113.438124  \n",
       "std       3897.975861  \n",
       "min        101.250000  \n",
       "25%       1504.727500  \n",
       "50%       4734.110000  \n",
       "75%       7672.687500  \n",
       "max      14977.990000  "
      ]
     },
     "execution_count": 5,
     "metadata": {},
     "output_type": "execute_result"
    }
   ],
   "source": [
    "# Menampilkan statistik deskriptif dataset dengan menjalankan describe\n",
    "df.describe()"
   ]
  },
  {
   "cell_type": "markdown",
   "metadata": {
    "id": "DNOEZk24uiXu"
   },
   "source": [
    "(Opsional) Memuat Dataset dan Melakukan Exploratory Data Analysis (EDA) [Skilled]\n",
    "\n",
    "**Biarkan kosong jika tidak menerapkan kriteria skilled**\n",
    "\n",
    "**Apabila ingin menerapkan Advanced, pastikan seluruh visualisasi tidak ada yang overlap**"
   ]
  },
  {
   "cell_type": "code",
   "execution_count": 6,
   "metadata": {
    "id": "DGAJlKExnYAt"
   },
   "outputs": [],
   "source": [
    "# Menampilkan korelasi antar fitur (Opsional Skilled 1)"
   ]
  },
  {
   "cell_type": "code",
   "execution_count": 7,
   "metadata": {
    "id": "kcBn9v4Fn8FO"
   },
   "outputs": [],
   "source": [
    "# Menampilkan histogram untuk semua kolom numerik (Opsional Skilled 1)"
   ]
  },
  {
   "cell_type": "markdown",
   "metadata": {
    "id": "k-S35baFuwaP"
   },
   "source": [
    "(Opsional) Memuat Dataset dan Melakukan Exploratory Data Analysis (EDA) [Advanced]\n",
    "\n",
    "**Biarkan kosong jika tidak menerapkan kriteria advanced**"
   ]
  },
  {
   "cell_type": "code",
   "execution_count": 8,
   "metadata": {
    "id": "GVIuT8VDokKn"
   },
   "outputs": [],
   "source": [
    "# Visualisasi yang lebih informatif (Opsional Advanced 1)"
   ]
  },
  {
   "cell_type": "markdown",
   "metadata": {
    "id": "cSemyzQHU0On"
   },
   "source": [
    "# **3. Pembersihan dan Pra Pemrosesan Data**\n",
    "\n",
    "Pada tahap ini, Anda akan melakukan **Pembersihan Dataset** untuk menjadikan dataset mudah diintepretasi dan bisa dilatih. Hal-hal yang wajib kamu lakukan yaitu:\n",
    "\n",
    "1. **Mengecek dataset** menggunakan isnull().sum() dan duplicated().sum().\n",
    "2. Melakukan feature scaling menggunakan `MinMaxScaler()` atau `StandardScalar()` untuk fitur numerik.\n",
    "3. Melakukan feature encoding menggunakan `LabelEncoder()` untuk fitur kategorikal.\n",
    "4. Melakukan drop pada kolom id.\n",
    "5. **Ketentuan Cell Code**\n",
    "   - Pastikan **setiap pemeriksaan tersebut** memiliki **output pada cell-nya**. Jika tidak **submission langsung ditolak**\n"
   ]
  },
  {
   "cell_type": "code",
   "execution_count": 9,
   "metadata": {
    "id": "dKeejtvxM6X1"
   },
   "outputs": [
    {
     "data": {
      "text/plain": [
       "TransactionID              29\n",
       "AccountID                  21\n",
       "TransactionAmount          26\n",
       "TransactionDate            28\n",
       "TransactionType            30\n",
       "Location                   30\n",
       "DeviceID                   30\n",
       "IP Address                 20\n",
       "MerchantID                 23\n",
       "Channel                    27\n",
       "CustomerAge                18\n",
       "CustomerOccupation         23\n",
       "TransactionDuration        26\n",
       "LoginAttempts              21\n",
       "AccountBalance             27\n",
       "PreviousTransactionDate    24\n",
       "dtype: int64"
      ]
     },
     "execution_count": 9,
     "metadata": {},
     "output_type": "execute_result"
    }
   ],
   "source": [
    "# Mengecek dataset menggunakan isnull().sum()\n",
    "df.isnull().sum()"
   ]
  },
  {
   "cell_type": "code",
   "execution_count": 10,
   "metadata": {
    "id": "2RrBA92mpHBc"
   },
   "outputs": [
    {
     "data": {
      "text/plain": [
       "np.int64(21)"
      ]
     },
     "execution_count": 10,
     "metadata": {},
     "output_type": "execute_result"
    }
   ],
   "source": [
    "# Mengecek dataset menggunakan duplicated().sum()\n",
    "df.duplicated().sum()"
   ]
  },
  {
   "cell_type": "code",
   "execution_count": 11,
   "metadata": {
    "id": "G7WXozOgpJp-"
   },
   "outputs": [
    {
     "data": {
      "text/html": [
       "<div>\n",
       "<style scoped>\n",
       "    .dataframe tbody tr th:only-of-type {\n",
       "        vertical-align: middle;\n",
       "    }\n",
       "\n",
       "    .dataframe tbody tr th {\n",
       "        vertical-align: top;\n",
       "    }\n",
       "\n",
       "    .dataframe thead th {\n",
       "        text-align: right;\n",
       "    }\n",
       "</style>\n",
       "<table border=\"1\" class=\"dataframe\">\n",
       "  <thead>\n",
       "    <tr style=\"text-align: right;\">\n",
       "      <th></th>\n",
       "      <th>TransactionID</th>\n",
       "      <th>AccountID</th>\n",
       "      <th>TransactionAmount</th>\n",
       "      <th>TransactionDate</th>\n",
       "      <th>TransactionType</th>\n",
       "      <th>Location</th>\n",
       "      <th>DeviceID</th>\n",
       "      <th>IP Address</th>\n",
       "      <th>MerchantID</th>\n",
       "      <th>Channel</th>\n",
       "      <th>CustomerAge</th>\n",
       "      <th>CustomerOccupation</th>\n",
       "      <th>TransactionDuration</th>\n",
       "      <th>LoginAttempts</th>\n",
       "      <th>AccountBalance</th>\n",
       "      <th>PreviousTransactionDate</th>\n",
       "    </tr>\n",
       "  </thead>\n",
       "  <tbody>\n",
       "    <tr>\n",
       "      <th>0</th>\n",
       "      <td>TX000001</td>\n",
       "      <td>AC00128</td>\n",
       "      <td>0.007207</td>\n",
       "      <td>2023-04-11 16:29:14</td>\n",
       "      <td>Debit</td>\n",
       "      <td>San Diego</td>\n",
       "      <td>D000380</td>\n",
       "      <td>162.198.218.92</td>\n",
       "      <td>M015</td>\n",
       "      <td>ATM</td>\n",
       "      <td>0.838710</td>\n",
       "      <td>Doctor</td>\n",
       "      <td>0.244828</td>\n",
       "      <td>0.0</td>\n",
       "      <td>0.336832</td>\n",
       "      <td>2024-11-04 08:08:08</td>\n",
       "    </tr>\n",
       "    <tr>\n",
       "      <th>1</th>\n",
       "      <td>TX000002</td>\n",
       "      <td>AC00455</td>\n",
       "      <td>0.195940</td>\n",
       "      <td>2023-06-27 16:44:19</td>\n",
       "      <td>Debit</td>\n",
       "      <td>Houston</td>\n",
       "      <td>D000051</td>\n",
       "      <td>13.149.61.4</td>\n",
       "      <td>M052</td>\n",
       "      <td>ATM</td>\n",
       "      <td>0.806452</td>\n",
       "      <td>Doctor</td>\n",
       "      <td>0.451724</td>\n",
       "      <td>0.0</td>\n",
       "      <td>0.918055</td>\n",
       "      <td>2024-11-04 08:09:35</td>\n",
       "    </tr>\n",
       "    <tr>\n",
       "      <th>2</th>\n",
       "      <td>TX000003</td>\n",
       "      <td>AC00019</td>\n",
       "      <td>0.065680</td>\n",
       "      <td>2023-07-10 18:16:08</td>\n",
       "      <td>Debit</td>\n",
       "      <td>Mesa</td>\n",
       "      <td>D000235</td>\n",
       "      <td>215.97.143.157</td>\n",
       "      <td>M009</td>\n",
       "      <td>Online</td>\n",
       "      <td>0.016129</td>\n",
       "      <td>Student</td>\n",
       "      <td>0.158621</td>\n",
       "      <td>0.0</td>\n",
       "      <td>0.068637</td>\n",
       "      <td>2024-11-04 08:07:04</td>\n",
       "    </tr>\n",
       "    <tr>\n",
       "      <th>3</th>\n",
       "      <td>TX000004</td>\n",
       "      <td>AC00070</td>\n",
       "      <td>0.096016</td>\n",
       "      <td>2023-05-05 16:32:11</td>\n",
       "      <td>Debit</td>\n",
       "      <td>Raleigh</td>\n",
       "      <td>D000187</td>\n",
       "      <td>200.13.225.150</td>\n",
       "      <td>M002</td>\n",
       "      <td>Online</td>\n",
       "      <td>0.129032</td>\n",
       "      <td>Student</td>\n",
       "      <td>0.051724</td>\n",
       "      <td>0.0</td>\n",
       "      <td>0.569198</td>\n",
       "      <td>2024-11-04 08:09:06</td>\n",
       "    </tr>\n",
       "    <tr>\n",
       "      <th>4</th>\n",
       "      <td>TX000005</td>\n",
       "      <td>AC00411</td>\n",
       "      <td>0.006874</td>\n",
       "      <td>2023-10-16 17:51:24</td>\n",
       "      <td>Credit</td>\n",
       "      <td>Atlanta</td>\n",
       "      <td>D000308</td>\n",
       "      <td>65.164.3.100</td>\n",
       "      <td>M091</td>\n",
       "      <td>Online</td>\n",
       "      <td>NaN</td>\n",
       "      <td>Student</td>\n",
       "      <td>0.648276</td>\n",
       "      <td>0.0</td>\n",
       "      <td>0.492591</td>\n",
       "      <td>2024-11-04 08:06:39</td>\n",
       "    </tr>\n",
       "  </tbody>\n",
       "</table>\n",
       "</div>"
      ],
      "text/plain": [
       "  TransactionID AccountID  TransactionAmount      TransactionDate  \\\n",
       "0      TX000001   AC00128           0.007207  2023-04-11 16:29:14   \n",
       "1      TX000002   AC00455           0.195940  2023-06-27 16:44:19   \n",
       "2      TX000003   AC00019           0.065680  2023-07-10 18:16:08   \n",
       "3      TX000004   AC00070           0.096016  2023-05-05 16:32:11   \n",
       "4      TX000005   AC00411           0.006874  2023-10-16 17:51:24   \n",
       "\n",
       "  TransactionType   Location DeviceID      IP Address MerchantID Channel  \\\n",
       "0           Debit  San Diego  D000380  162.198.218.92       M015     ATM   \n",
       "1           Debit    Houston  D000051     13.149.61.4       M052     ATM   \n",
       "2           Debit       Mesa  D000235  215.97.143.157       M009  Online   \n",
       "3           Debit    Raleigh  D000187  200.13.225.150       M002  Online   \n",
       "4          Credit    Atlanta  D000308    65.164.3.100       M091  Online   \n",
       "\n",
       "   CustomerAge CustomerOccupation  TransactionDuration  LoginAttempts  \\\n",
       "0     0.838710             Doctor             0.244828            0.0   \n",
       "1     0.806452             Doctor             0.451724            0.0   \n",
       "2     0.016129            Student             0.158621            0.0   \n",
       "3     0.129032            Student             0.051724            0.0   \n",
       "4          NaN            Student             0.648276            0.0   \n",
       "\n",
       "   AccountBalance PreviousTransactionDate  \n",
       "0        0.336832     2024-11-04 08:08:08  \n",
       "1        0.918055     2024-11-04 08:09:35  \n",
       "2        0.068637     2024-11-04 08:07:04  \n",
       "3        0.569198     2024-11-04 08:09:06  \n",
       "4        0.492591     2024-11-04 08:06:39  "
      ]
     },
     "execution_count": 11,
     "metadata": {},
     "output_type": "execute_result"
    }
   ],
   "source": [
    "# Melakukan feature scaling menggunakan MinMaxScaler() atau StandardScalar() untuk fitur numerik.\n",
    "# Pastikan kamu menggunakan function head setelah melalukan scaling.\n",
    "\n",
    "# Identifikasi kolom numerik\n",
    "numerical_cols = ['TransactionAmount', 'CustomerAge', 'TransactionDuration', 'LoginAttempts', 'AccountBalance']\n",
    "\n",
    "# Scaling untuk kolom numerik\n",
    "scaler = MinMaxScaler()\n",
    "df[numerical_cols] = scaler.fit_transform(df[numerical_cols])\n",
    "\n",
    "df.head()"
   ]
  },
  {
   "cell_type": "code",
   "execution_count": 12,
   "metadata": {
    "id": "TGLR0NTwsMOp"
   },
   "outputs": [],
   "source": [
    "# Melakukan drop pada kolom yang memiliki keterangan id dan IP Address\n",
    "df = df.drop(['TransactionID', 'AccountID', 'DeviceID', 'MerchantID', 'TransactionDate', 'IP Address', 'PreviousTransactionDate'], axis=1)"
   ]
  },
  {
   "cell_type": "code",
   "execution_count": 13,
   "metadata": {
    "id": "6eycdNMQqx4c"
   },
   "outputs": [
    {
     "data": {
      "text/html": [
       "<div>\n",
       "<style scoped>\n",
       "    .dataframe tbody tr th:only-of-type {\n",
       "        vertical-align: middle;\n",
       "    }\n",
       "\n",
       "    .dataframe tbody tr th {\n",
       "        vertical-align: top;\n",
       "    }\n",
       "\n",
       "    .dataframe thead th {\n",
       "        text-align: right;\n",
       "    }\n",
       "</style>\n",
       "<table border=\"1\" class=\"dataframe\">\n",
       "  <thead>\n",
       "    <tr style=\"text-align: right;\">\n",
       "      <th></th>\n",
       "      <th>TransactionAmount</th>\n",
       "      <th>TransactionType</th>\n",
       "      <th>Location</th>\n",
       "      <th>Channel</th>\n",
       "      <th>CustomerAge</th>\n",
       "      <th>CustomerOccupation</th>\n",
       "      <th>TransactionDuration</th>\n",
       "      <th>LoginAttempts</th>\n",
       "      <th>AccountBalance</th>\n",
       "    </tr>\n",
       "  </thead>\n",
       "  <tbody>\n",
       "    <tr>\n",
       "      <th>0</th>\n",
       "      <td>0.007207</td>\n",
       "      <td>1</td>\n",
       "      <td>36</td>\n",
       "      <td>0</td>\n",
       "      <td>0.838710</td>\n",
       "      <td>0</td>\n",
       "      <td>0.244828</td>\n",
       "      <td>0.0</td>\n",
       "      <td>0.336832</td>\n",
       "    </tr>\n",
       "    <tr>\n",
       "      <th>1</th>\n",
       "      <td>0.195940</td>\n",
       "      <td>1</td>\n",
       "      <td>15</td>\n",
       "      <td>0</td>\n",
       "      <td>0.806452</td>\n",
       "      <td>0</td>\n",
       "      <td>0.451724</td>\n",
       "      <td>0.0</td>\n",
       "      <td>0.918055</td>\n",
       "    </tr>\n",
       "    <tr>\n",
       "      <th>2</th>\n",
       "      <td>0.065680</td>\n",
       "      <td>1</td>\n",
       "      <td>23</td>\n",
       "      <td>2</td>\n",
       "      <td>0.016129</td>\n",
       "      <td>3</td>\n",
       "      <td>0.158621</td>\n",
       "      <td>0.0</td>\n",
       "      <td>0.068637</td>\n",
       "    </tr>\n",
       "    <tr>\n",
       "      <th>3</th>\n",
       "      <td>0.096016</td>\n",
       "      <td>1</td>\n",
       "      <td>33</td>\n",
       "      <td>2</td>\n",
       "      <td>0.129032</td>\n",
       "      <td>3</td>\n",
       "      <td>0.051724</td>\n",
       "      <td>0.0</td>\n",
       "      <td>0.569198</td>\n",
       "    </tr>\n",
       "    <tr>\n",
       "      <th>4</th>\n",
       "      <td>0.006874</td>\n",
       "      <td>0</td>\n",
       "      <td>1</td>\n",
       "      <td>2</td>\n",
       "      <td>NaN</td>\n",
       "      <td>3</td>\n",
       "      <td>0.648276</td>\n",
       "      <td>0.0</td>\n",
       "      <td>0.492591</td>\n",
       "    </tr>\n",
       "  </tbody>\n",
       "</table>\n",
       "</div>"
      ],
      "text/plain": [
       "   TransactionAmount  TransactionType  Location  Channel  CustomerAge  \\\n",
       "0           0.007207                1        36        0     0.838710   \n",
       "1           0.195940                1        15        0     0.806452   \n",
       "2           0.065680                1        23        2     0.016129   \n",
       "3           0.096016                1        33        2     0.129032   \n",
       "4           0.006874                0         1        2          NaN   \n",
       "\n",
       "   CustomerOccupation  TransactionDuration  LoginAttempts  AccountBalance  \n",
       "0                   0             0.244828            0.0        0.336832  \n",
       "1                   0             0.451724            0.0        0.918055  \n",
       "2                   3             0.158621            0.0        0.068637  \n",
       "3                   3             0.051724            0.0        0.569198  \n",
       "4                   3             0.648276            0.0        0.492591  "
      ]
     },
     "execution_count": 13,
     "metadata": {},
     "output_type": "execute_result"
    }
   ],
   "source": [
    "# Melakukan feature encoding menggunakan LabelEncoder() untuk fitur kategorikal.\n",
    "# Pastikan kamu menggunakan function head setelah melalukan encoding.\n",
    "\n",
    "# Identifikasi kolom kategorikal\n",
    "categorical_cols = ['TransactionType', 'Location', 'Channel', 'CustomerOccupation']\n",
    "\n",
    "# Encoding untuk kolom kategorikal\n",
    "encoders = {}\n",
    "for col in categorical_cols:\n",
    "    le = LabelEncoder()\n",
    "    df[col] = le.fit_transform(df[col].astype(str))\n",
    "    encoders[col] = le\n",
    "\n",
    "df.head()"
   ]
  },
  {
   "cell_type": "code",
   "execution_count": 14,
   "metadata": {
    "id": "u1EmlGmZCCAP"
   },
   "outputs": [
    {
     "data": {
      "text/plain": [
       "['TransactionAmount',\n",
       " 'TransactionType',\n",
       " 'Location',\n",
       " 'Channel',\n",
       " 'CustomerAge',\n",
       " 'CustomerOccupation',\n",
       " 'TransactionDuration',\n",
       " 'LoginAttempts',\n",
       " 'AccountBalance']"
      ]
     },
     "execution_count": 14,
     "metadata": {},
     "output_type": "execute_result"
    }
   ],
   "source": [
    "# Last checking gunakan columns.tolist() untuk checking seluruh fitur yang ada.\n",
    "# Perbaiki kode di bawah ini tanpa menambahkan atau mengurangi cell code ini.\n",
    "df.columns.tolist()"
   ]
  },
  {
   "cell_type": "markdown",
   "metadata": {
    "id": "qnbH2l_wv9l8"
   },
   "source": [
    "(Opsional) Pembersihan dan Pra Pemrosesan Data [Skilled]\n",
    "\n",
    "**Biarkan kosong jika tidak menerapkan kriteria skilled**"
   ]
  },
  {
   "cell_type": "code",
   "execution_count": 15,
   "metadata": {
    "id": "-UoGhAUrsxIV"
   },
   "outputs": [],
   "source": [
    "# Menangani data yang hilang (bisa menggunakan dropna() atau metode imputasi fillna()).\n",
    "df = df.dropna()"
   ]
  },
  {
   "cell_type": "code",
   "execution_count": 16,
   "metadata": {
    "id": "WGt2XApTttSL"
   },
   "outputs": [],
   "source": [
    "# Menghapus data duplikat menggunakan drop_duplicates().\n",
    "df = df.drop_duplicates()"
   ]
  },
  {
   "cell_type": "markdown",
   "metadata": {
    "id": "H5RrswThwQrC"
   },
   "source": [
    "(Opsional) Pembersihan dan Pra Pemrosesan Data [Advanced]\n",
    "\n",
    "**Biarkan kosong jika tidak menerapkan kriteria advanced**"
   ]
  },
  {
   "cell_type": "code",
   "execution_count": 17,
   "metadata": {
    "id": "mvhfyYpat9Xs"
   },
   "outputs": [],
   "source": [
    "# Melakukan Handling Outlier Data berdasarkan jumlah outlier, apakah menggunakan metode drop atau mengisi nilai tersebut."
   ]
  },
  {
   "cell_type": "code",
   "execution_count": 18,
   "metadata": {
    "id": "QjcR-3G0u-GL"
   },
   "outputs": [],
   "source": [
    "# Melakukan binning data berdasarkan kondisi rentang nilai pada fitur numerik,\n",
    "# lakukan pada satu sampai dua fitur numerik.\n",
    "# Silahkan lakukan encode hasil binning tersebut menggunakan LabelEncoder.\n",
    "# Pastikan kamu mengerjakan tahapan ini pada satu cell."
   ]
  },
  {
   "cell_type": "markdown",
   "metadata": {
    "id": "Fkd_QHXWMBDr"
   },
   "source": [
    "# **4. Membangun Model Clustering**\n",
    "Pada tahap ini, Anda membangun model clustering dengan memilih algoritma yang sesuai untuk mengelompokkan data berdasarkan kesamaan.\n",
    "1. Pastikan Anda menggunakan dataframe yang sudah melalui processing sesuai dengan levelnya (Basic, Skilled, Advanced)\n",
    "2. Melakukan visualisasi Elbow Method untuk menentukan jumlah cluster terbaik menggunakan `KElbowVisualizer()`.\n",
    "3. Menggunakan algoritma K-Means Clustering dengan `sklearn.cluster.KMeans()`.\n",
    "4. Jalankan cell code `joblib.dump(model_kmeans, \"model_clustering.h5\")` untuk menyimpan model yang sudah dibuat."
   ]
  },
  {
   "cell_type": "code",
   "execution_count": 19,
   "metadata": {
    "id": "hYHmRnb42A1P"
   },
   "outputs": [
    {
     "data": {
      "text/html": [
       "<div>\n",
       "<style scoped>\n",
       "    .dataframe tbody tr th:only-of-type {\n",
       "        vertical-align: middle;\n",
       "    }\n",
       "\n",
       "    .dataframe tbody tr th {\n",
       "        vertical-align: top;\n",
       "    }\n",
       "\n",
       "    .dataframe thead th {\n",
       "        text-align: right;\n",
       "    }\n",
       "</style>\n",
       "<table border=\"1\" class=\"dataframe\">\n",
       "  <thead>\n",
       "    <tr style=\"text-align: right;\">\n",
       "      <th></th>\n",
       "      <th>TransactionAmount</th>\n",
       "      <th>TransactionType</th>\n",
       "      <th>Location</th>\n",
       "      <th>Channel</th>\n",
       "      <th>CustomerAge</th>\n",
       "      <th>CustomerOccupation</th>\n",
       "      <th>TransactionDuration</th>\n",
       "      <th>LoginAttempts</th>\n",
       "      <th>AccountBalance</th>\n",
       "    </tr>\n",
       "  </thead>\n",
       "  <tbody>\n",
       "    <tr>\n",
       "      <th>count</th>\n",
       "      <td>2397.000000</td>\n",
       "      <td>2397.000000</td>\n",
       "      <td>2397.000000</td>\n",
       "      <td>2397.000000</td>\n",
       "      <td>2397.000000</td>\n",
       "      <td>2397.000000</td>\n",
       "      <td>2397.000000</td>\n",
       "      <td>2397.000000</td>\n",
       "      <td>2397.000000</td>\n",
       "    </tr>\n",
       "    <tr>\n",
       "      <th>mean</th>\n",
       "      <td>0.154944</td>\n",
       "      <td>0.788903</td>\n",
       "      <td>21.375887</td>\n",
       "      <td>1.013350</td>\n",
       "      <td>0.429441</td>\n",
       "      <td>1.531498</td>\n",
       "      <td>0.377573</td>\n",
       "      <td>0.030038</td>\n",
       "      <td>0.335439</td>\n",
       "    </tr>\n",
       "    <tr>\n",
       "      <th>std</th>\n",
       "      <td>0.151921</td>\n",
       "      <td>0.437774</td>\n",
       "      <td>12.414387</td>\n",
       "      <td>0.831248</td>\n",
       "      <td>0.287683</td>\n",
       "      <td>1.153653</td>\n",
       "      <td>0.242403</td>\n",
       "      <td>0.147088</td>\n",
       "      <td>0.262236</td>\n",
       "    </tr>\n",
       "    <tr>\n",
       "      <th>min</th>\n",
       "      <td>0.000000</td>\n",
       "      <td>0.000000</td>\n",
       "      <td>0.000000</td>\n",
       "      <td>0.000000</td>\n",
       "      <td>0.000000</td>\n",
       "      <td>0.000000</td>\n",
       "      <td>0.000000</td>\n",
       "      <td>0.000000</td>\n",
       "      <td>0.000000</td>\n",
       "    </tr>\n",
       "    <tr>\n",
       "      <th>25%</th>\n",
       "      <td>0.042604</td>\n",
       "      <td>1.000000</td>\n",
       "      <td>11.000000</td>\n",
       "      <td>0.000000</td>\n",
       "      <td>0.145161</td>\n",
       "      <td>0.000000</td>\n",
       "      <td>0.182759</td>\n",
       "      <td>0.000000</td>\n",
       "      <td>0.093373</td>\n",
       "    </tr>\n",
       "    <tr>\n",
       "      <th>50%</th>\n",
       "      <td>0.110853</td>\n",
       "      <td>1.000000</td>\n",
       "      <td>21.000000</td>\n",
       "      <td>1.000000</td>\n",
       "      <td>0.435484</td>\n",
       "      <td>2.000000</td>\n",
       "      <td>0.351724</td>\n",
       "      <td>0.000000</td>\n",
       "      <td>0.308693</td>\n",
       "    </tr>\n",
       "    <tr>\n",
       "      <th>75%</th>\n",
       "      <td>0.214300</td>\n",
       "      <td>1.000000</td>\n",
       "      <td>32.000000</td>\n",
       "      <td>2.000000</td>\n",
       "      <td>0.661290</td>\n",
       "      <td>3.000000</td>\n",
       "      <td>0.524138</td>\n",
       "      <td>0.000000</td>\n",
       "      <td>0.508058</td>\n",
       "    </tr>\n",
       "    <tr>\n",
       "      <th>max</th>\n",
       "      <td>1.000000</td>\n",
       "      <td>2.000000</td>\n",
       "      <td>43.000000</td>\n",
       "      <td>3.000000</td>\n",
       "      <td>1.000000</td>\n",
       "      <td>4.000000</td>\n",
       "      <td>1.000000</td>\n",
       "      <td>1.000000</td>\n",
       "      <td>1.000000</td>\n",
       "    </tr>\n",
       "  </tbody>\n",
       "</table>\n",
       "</div>"
      ],
      "text/plain": [
       "       TransactionAmount  TransactionType     Location      Channel  \\\n",
       "count        2397.000000      2397.000000  2397.000000  2397.000000   \n",
       "mean            0.154944         0.788903    21.375887     1.013350   \n",
       "std             0.151921         0.437774    12.414387     0.831248   \n",
       "min             0.000000         0.000000     0.000000     0.000000   \n",
       "25%             0.042604         1.000000    11.000000     0.000000   \n",
       "50%             0.110853         1.000000    21.000000     1.000000   \n",
       "75%             0.214300         1.000000    32.000000     2.000000   \n",
       "max             1.000000         2.000000    43.000000     3.000000   \n",
       "\n",
       "       CustomerAge  CustomerOccupation  TransactionDuration  LoginAttempts  \\\n",
       "count  2397.000000         2397.000000          2397.000000    2397.000000   \n",
       "mean      0.429441            1.531498             0.377573       0.030038   \n",
       "std       0.287683            1.153653             0.242403       0.147088   \n",
       "min       0.000000            0.000000             0.000000       0.000000   \n",
       "25%       0.145161            0.000000             0.182759       0.000000   \n",
       "50%       0.435484            2.000000             0.351724       0.000000   \n",
       "75%       0.661290            3.000000             0.524138       0.000000   \n",
       "max       1.000000            4.000000             1.000000       1.000000   \n",
       "\n",
       "       AccountBalance  \n",
       "count     2397.000000  \n",
       "mean         0.335439  \n",
       "std          0.262236  \n",
       "min          0.000000  \n",
       "25%          0.093373  \n",
       "50%          0.308693  \n",
       "75%          0.508058  \n",
       "max          1.000000  "
      ]
     },
     "execution_count": 19,
     "metadata": {},
     "output_type": "execute_result"
    }
   ],
   "source": [
    "# Gunakan describe untuk memastikan proses clustering menggunakan dataset hasil preprocessing\n",
    "# Lengkapi kode ini dengan mengubah nama DataFrame yang akan dilatih.\n",
    "# Kode harus digunakan dan dilarang menambahkan syntax lainnya pada cell ini.\n",
    "df.describe()"
   ]
  },
  {
   "cell_type": "code",
   "execution_count": 35,
   "metadata": {
    "id": "hgYvwWOzM93L"
   },
   "outputs": [
    {
     "data": {
      "text/plain": [
       "<bound method Visualizer.show of KElbowVisualizer(ax=<Axes: >, estimator=KMeans(n_clusters=10, random_state=42),\n",
       "                 k=(2, 11))>"
      ]
     },
     "execution_count": 35,
     "metadata": {},
     "output_type": "execute_result"
    },
    {
     "data": {
      "image/png": "[encoded data removed]",
      "text/plain": [
       "<Figure size 800x550 with 2 Axes>"
      ]
     },
     "metadata": {},
     "output_type": "display_data"
    }
   ],
   "source": [
    "# Melakukan visualisasi Elbow Method menggunakan KElbowVisualizer()\n",
    "visualizer = KElbowVisualizer(KMeans(random_state=42), k=(2,11))\n",
    "visualizer.fit(df)\n",
    "visualizer.show"
   ]
  },
  {
   "cell_type": "code",
   "execution_count": 39,
   "metadata": {
    "id": "HvngRg-r4EcL"
   },
   "outputs": [
    {
     "name": "stdout",
     "output_type": "stream",
     "text": [
      "Jumlah cluster: 4\n"
     ]
    },
    {
     "data": {
      "text/plain": [
       "'Distribusi cluster: 0    587\\n1    616\\n2    578\\n3    616\\nName: count, dtype: int64'"
      ]
     },
     "execution_count": 39,
     "metadata": {},
     "output_type": "execute_result"
    }
   ],
   "source": [
    "# Menggunakan algoritma K-Means Clustering\n",
    "model_kmeans = KMeans(n_clusters=4, random_state=42, n_init=10)\n",
    "clusters = model_kmeans.fit_predict(df)\n",
    "\n",
    "df['Target'] = clusters\n",
    "print(f\"Jumlah cluster: {len(set(clusters))}\")\n",
    "(f\"Distribusi cluster: {pd.Series(clusters).value_counts().sort_index()}\")"
   ]
  },
  {
   "cell_type": "markdown",
   "metadata": {
    "id": "6aVHlHyU1Dcx"
   },
   "source": [
    "Jalankan cell code ini untuk menyimpan model kamu."
   ]
  },
  {
   "cell_type": "code",
   "execution_count": 41,
   "metadata": {
    "id": "D7AvYmQnY_fI"
   },
   "outputs": [
    {
     "data": {
      "text/plain": [
       "['model_clustering.h5']"
      ]
     },
     "execution_count": 41,
     "metadata": {},
     "output_type": "execute_result"
    }
   ],
   "source": [
    "# Menyimpan model menggunakan joblib\n",
    "import joblib\n",
    "joblib.dump(model_kmeans, \"model_clustering.h5\")"
   ]
  },
  {
   "cell_type": "markdown",
   "metadata": {
    "id": "YDOD9eVMx3mC"
   },
   "source": [
    "(Opsional) Membangun Model Clustering [Skilled]\n",
    "\n",
    "**Biarkan kosong jika tidak menerapkan kriteria skilled**"
   ]
  },
  {
   "cell_type": "code",
   "execution_count": 23,
   "metadata": {
    "id": "SELNsH5O4Oyn"
   },
   "outputs": [],
   "source": [
    "# Menghitung dan menampilkan nilai Silhouette Score."
   ]
  },
  {
   "cell_type": "code",
   "execution_count": 24,
   "metadata": {
    "id": "K4EbkaXg4QAN"
   },
   "outputs": [],
   "source": [
    "# Membuat visualisasi hasil clustering"
   ]
  },
  {
   "cell_type": "markdown",
   "metadata": {
    "id": "uloMRbnsyAbB"
   },
   "source": [
    "(Opsional) Membangun Model Clustering [Advanced]\n",
    "\n",
    "**Biarkan kosong jika tidak menerapkan kriteria advanced**"
   ]
  },
  {
   "cell_type": "code",
   "execution_count": 25,
   "metadata": {
    "id": "SgfOarXX4SD2"
   },
   "outputs": [],
   "source": [
    "# Membangun model menggunakan PCA.\n",
    "# ___ =PCA(n_components=<x>)\n",
    "# ___ = ____.fit_transform(___)\n",
    "# Menyimpan data PCA sebagai Dataframe dengan nama PCA_<numbers>\n",
    "# <data_final> = pd.DataFrame(___, columns=['PCA1', 'PCA2', <sesuaikan dengan jumlah n>])\n",
    "# Pastikan kamu membangun model Kmeans baru dengan data yang sudah dimodifikasi melalui PCA.\n",
    "# ___ = KMeans(n_clusters=<x>)\n",
    "# ___.fit(<data_final>)"
   ]
  },
  {
   "cell_type": "code",
   "execution_count": 26,
   "metadata": {
    "id": "uKvJy9Ky4VB3"
   },
   "outputs": [],
   "source": [
    "# Simpan model PCA sebagai perbandingan dengan menjalankan cell code ini joblib.dump(model,\"PCA_model_clustering.h5\")\n",
    "# Pastikan yang disimpan model yang sudah melalui .fit berdasarkan dataset yang sudah dilakukan PCA\n",
    "# joblib.dump(___, \"PCA_model_clustering.h5\")"
   ]
  },
  {
   "cell_type": "markdown",
   "metadata": {
    "id": "anlTI9Trb7F6"
   },
   "source": [
    "# **5. Interpretasi Cluster**"
   ]
  },
  {
   "cell_type": "markdown",
   "metadata": {
    "id": "JfgVMEBDS3KG"
   },
   "source": [
    "## **a. Interpretasi Hasil Clustering**\n",
    "1. **Contoh Interpretasi:**\n",
    "- **Cluster 1: (Nasabah Bertransaksi dan Pendapatan Besar)**:\n",
    "  - **Rata-rata (mean) Annual Income:** 0.953 (48,260)\n",
    "  - **Rata-rata (mean) Spending Score:** 0.8 (56.48)\n",
    "  - **Analisis:** Cluster ini mencakup pelanggan dengan pendapatan tahunan tinggi dan tingkat pengeluaran yang cukup tinggi. Pelanggan dalam cluster ini cenderung memiliki daya beli yang tinggi dan mereka lebih cenderung untuk membelanjakan sebagian besar pendapatan mereka. Sehingga rekomendasi pada kelompok nasabah ini adalah dengan menawarkan produk-produk investasi atau perbankan yang berkualitas tinggi.\n"
   ]
  },
  {
   "cell_type": "code",
   "execution_count": 43,
   "metadata": {
    "id": "Qmpy4fmV64Mi"
   },
   "outputs": [
    {
     "name": "stdout",
     "output_type": "stream",
     "text": [
      "Analisis Cluster:\n",
      "       TransactionAmount                     CustomerAge            \\\n",
      "                    mean       min       max        mean  min  max   \n",
      "Target                                                               \n",
      "0               0.150497  0.000031  0.954092    0.444414  0.0  1.0   \n",
      "1               0.156798  0.000000  1.000000    0.438574  0.0  1.0   \n",
      "2               0.155081  0.000599  0.953561    0.407886  0.0  1.0   \n",
      "3               0.157198  0.000099  0.840144    0.426267  0.0  1.0   \n",
      "\n",
      "       TransactionDuration                LoginAttempts            \\\n",
      "                      mean  min       max          mean  min  max   \n",
      "Target                                                              \n",
      "0                 0.376520  0.0  1.000000      0.028109  0.0  1.0   \n",
      "1                 0.376875  0.0  1.000000      0.029627  0.0  1.0   \n",
      "2                 0.366239  0.0  0.986207      0.022924  0.0  1.0   \n",
      "3                 0.389907  0.0  0.996552      0.038961  0.0  1.0   \n",
      "\n",
      "       AccountBalance                     TransactionType   Location  \\\n",
      "                 mean       min       max            mean       mean   \n",
      "Target                                                                 \n",
      "0            0.332709  0.001885  0.997144        0.814310   5.114140   \n",
      "1            0.329166  0.000774  0.988352        0.780844  26.844156   \n",
      "2            0.336876  0.000000  1.000000        0.766436  37.771626   \n",
      "3            0.342964  0.001125  0.997633        0.793831  16.019481   \n",
      "\n",
      "         Channel CustomerOccupation  \n",
      "            mean               mean  \n",
      "Target                               \n",
      "0       1.015332           1.586031  \n",
      "1       0.972403           1.634740  \n",
      "2       1.048443           1.480969  \n",
      "3       1.019481           1.423701  \n",
      "\n",
      "Distribusi Cluster:\n",
      "Target\n",
      "0    587\n",
      "1    616\n",
      "2    578\n",
      "3    616\n",
      "Name: count, dtype: int64\n"
     ]
    }
   ],
   "source": [
    "# Menampilkan analisis deskriptif minimal mean, min dan max untuk fitur numerik.\n",
    "# Silakan menambahkan fungsi agregasi lainnya untuk experience lebih baik.\n",
    "# pastikan output menghasilkan agregasi dan groupby bersamaan dengan mean, min, dan max.\n",
    "cluster_analysis = df.groupby('Target').agg({\n",
    "      'TransactionAmount': ['mean', 'min', 'max'],\n",
    "      'CustomerAge': ['mean', 'min', 'max'],\n",
    "      'TransactionDuration': ['mean', 'min', 'max'],\n",
    "      'LoginAttempts': ['mean', 'min', 'max'],\n",
    "      'AccountBalance': ['mean', 'min', 'max'],\n",
    "      'TransactionType': 'mean',\n",
    "      'Location': 'mean',\n",
    "      'Channel': 'mean',\n",
    "      'CustomerOccupation': 'mean'\n",
    "  })\n",
    "\n",
    "print(\"Analisis Cluster:\")\n",
    "print(cluster_analysis)\n",
    "\n",
    "# Hitung distribusi cluster\n",
    "print(f\"\\nDistribusi Cluster:\")\n",
    "print(df['Target'].value_counts().sort_index())"
   ]
  },
  {
   "cell_type": "markdown",
   "metadata": {
    "id": "KrjMI_dG6tnb"
   },
   "source": [
    "## Menjelaskan karakteristik tiap cluster berdasarkan rentangnya.\n",
    "1. **Cluster 0: (Nasabah Transaksi Rendah)**:\n",
    "  - **Rata-rata TransactionAmount:** 0.150 (Transaction Relatif Rendah)\n",
    "  - **Rata-rata Customer Age:** 0.444 (Relatif Usia Menengah)\n",
    "  - **Rata-rata TransactionDuration:** 0.377 (Durasi Sedang)\n",
    "  - **Analisis:** Cluster ini mencakup nasabah dengan nilai transaksi rendah, usia menengah dan pola transaksi normal kemungkinan nasabah biasa\n",
    "\n",
    "2. **Cluster 1: (Nasabah Lokasi Tertentu)**:\n",
    "  - **Rata-rata TransactionAmount:** 0.157 (Transaction Sedang)\n",
    "  - **Rata-rata Location:** 26.8 (Lokasi Spesifik Tinggi)\n",
    "  - **Analisis:** Cluster ini menunjukkan nasabah dari lokasi geografis tertentu dengan pola transaksi yang konsisten.\n",
    "\n",
    "3. **Cluster 2: (Nasabah Lokasi Metropolitan)**:\n",
    "  - **Rata-rata TransactionAmount:** 0.155 (Transaction Sedang)\n",
    "  - **Rata-rata Location:** 37.8 (Lokasi Metropolitan)\n",
    "  - **Analisis:** Cluster ini mencakup nasabah dari area metropolitan dengan karakteristik transaksi yang stabil\n",
    "\n",
    "4. **Cluster 3: (Nasabah Aktif)**:\n",
    "  - **Rata-rata LoginAttempts:** 0.039 (login attempts tertinggi)\n",
    "  - **Rata-rata TransactionDuration:** 0.390 (durasi tertinggi)\n",
    "  - **Analisis:** Cluster ini menunjukkan nasabah yang paling aktif dengan durasi transaksi lebih lama dan lebih banyak \n"
   ]
  },
  {
   "cell_type": "markdown",
   "metadata": {
    "id": "jaYP1fx5VgWO"
   },
   "source": [
    "# **6. Mengeksport Data**\n",
    "\n",
    "1. Simpan nama kolom hasil clustering dengan nama `Target`.\n",
    "2. Simpan hasilnya ke dalam file CSV menggunakan function `to_csv()`."
   ]
  },
  {
   "cell_type": "code",
   "execution_count": 44,
   "metadata": {
    "id": "3FInN10U5S4f"
   },
   "outputs": [
    {
     "name": "stdout",
     "output_type": "stream",
     "text": [
      "Kolom Target sudah ada: True\n",
      "Distribusi Target:\n",
      "Target\n",
      "0    587\n",
      "1    616\n",
      "2    578\n",
      "3    616\n",
      "Name: count, dtype: int64\n"
     ]
    }
   ],
   "source": [
    "# Pastikan nama kolom clustering sudah diubah menjadi Target\n",
    "print(\"Kolom Target sudah ada:\", 'Target' in df.columns)\n",
    "print(\"Distribusi Target:\")\n",
    "print(df['Target'].value_counts().sort_index())"
   ]
  },
  {
   "cell_type": "code",
   "execution_count": 45,
   "metadata": {
    "id": "fkbg_o80aRSH"
   },
   "outputs": [],
   "source": [
    "# Simpan Data\n",
    "df.to_csv('data_clustering.csv', index=False)"
   ]
  },
  {
   "cell_type": "markdown",
   "metadata": {
    "id": "rz1vFc2yzFPD"
   },
   "source": [
    "(Opsional) Interpretasi Hasil Clustering [Skilled]\n",
    "\n",
    "**Biarkan kosong jika tidak menerapkan kriteria skilled**"
   ]
  },
  {
   "cell_type": "code",
   "execution_count": 30,
   "metadata": {
    "id": "OMcRV15y_hH3"
   },
   "outputs": [],
   "source": [
    "# inverse dataset ke rentang normal untuk numerikal\n",
    "# df[numerical_cols] = <nama_scaler>.inverse_transform(df[numerical_cols])\n",
    "# tampilkan dataset yang sudah di-inverse\n",
    "# ___.head()"
   ]
  },
  {
   "cell_type": "code",
   "execution_count": 31,
   "metadata": {
    "id": "wzIddcB6XjrC"
   },
   "outputs": [],
   "source": [
    "# inverse dataset yang sudah diencode ke kategori aslinya.\n",
    "# Lengkapi kode berikut jika ingin menerapkan kriteria ini (silakan hapus simbol pagar pada kode yang akan digunakan.)\n",
    "# for ___ in categorical_cols:\n",
    "#     ___ = encoders[col]\n",
    "#     df[col] = ___.inverse_transform(df_inverse[col].astype(int))\n",
    "# tampilkan dataset yang sudah di-inverse\n",
    "# ___.head()"
   ]
  },
  {
   "cell_type": "code",
   "execution_count": 32,
   "metadata": {
    "id": "omCabiXBTklU"
   },
   "outputs": [],
   "source": [
    "# Lakukan analisis deskriptif minimal mean, min dan max untuk fitur numerik dan mode untuk kategorikal seperti pada basic tetapi menggunakan data yang sudah diinverse.\n",
    "# pastikan output menghasilkan agregasi dan groupby bersamaan dengan mean, min, dan max kembali setelah melakukan inverse."
   ]
  },
  {
   "cell_type": "markdown",
   "metadata": {
    "id": "WcaT8sxVzLs6"
   },
   "source": [
    "## Menjelaskan karakteristik tiap cluster berdasarkan rentangnya setelah inverse.\n",
    "1. **Cluster 0: (Nasabah Transaksi Rendah)**:\n",
    "  - **Rata-rata (mean) TransactionAmount:** 0.150\n",
    "  - **Rata-rata (mean) CustomerAge:** 0.444\n",
    "  - **Analisis:** Cluster ini mencakup nasabah dengan nilai transaksi rendah dan usia menengah itu merupakan segmen nasabah retail denga pola transaksi konservatif dan kemungkinan resiko fraud rendah\n",
    "\n",
    "2. **Cluster 1: (Nasabah Regional Spesifik)**:\n",
    "  - **Rata-rata (mean) TransactionAmount:** 0.157\n",
    "  - **Rata-rata (mean) Location:** 26.8\n",
    "  - **Analisis:** Cluster ini mencakup nasabah dari lokasi geografis tertentu dengan karakteristik transaksi yang konsisten menunjukkan prefrensi regional yang kuat\n",
    "\n",
    "3. **Cluster 2: (Nasabah Metropolitan)**:\n",
    "  - **Rata-rata (mean) TransactionAmount:** 0.155\n",
    "  - **Rata-rata (mean) Location:** 37.8\n",
    "  - **Analisis:** Cluster ini mencakup nasabah dari are metropolitan dengan aktivitas transaksi yang stabil dan lokasi urban menunjukkan aksesibilitas tinggi terhadap layanan perbankan\n",
    "\n",
    "4. **Cluster 3: (Nasabah Sangat Aktif)**:\n",
    "  - **Rata-rata (mean) LoginAttempts:** 0.039\n",
    "  - **Rata-rata (mean) TransactionDuration:** 0.390\n",
    "  - **Analisis:** Cluster ini menunjukkan nasabah paling aktif dengan durasi transaksi terlama dan login tertinggi memerlukan monitoring lebih untuk mendeteksi anomali."
   ]
  },
  {
   "cell_type": "markdown",
   "metadata": {
    "id": "jSd6vZslzatv"
   },
   "source": [
    "(Opsional) Interpretasi Hasil Clustering [Advanced]\n",
    "\n",
    "**Biarkan kosong jika tidak menerapkan kriteria advanced**"
   ]
  },
  {
   "cell_type": "code",
   "execution_count": 33,
   "metadata": {
    "id": "4mGIyUZ2zRCP"
   },
   "outputs": [],
   "source": [
    "# Mengintegrasikan kembali data yang telah di-inverse dengan hasil cluster."
   ]
  },
  {
   "cell_type": "code",
   "execution_count": 34,
   "metadata": {
    "id": "BEASz_Q__jms"
   },
   "outputs": [],
   "source": [
    "# Simpan Data\n",
    "# ___.to_csv('data_clustering_inverse.csv', index=False)"
   ]
  },
  {
   "cell_type": "markdown",
   "metadata": {
    "id": "sWOK6TDTL0eH"
   },
   "source": [
    "End of Code."
   ]
  }
 ],
 "metadata": {
  "colab": {
   "provenance": []
  },
  "kernelspec": {
   "display_name": "Python 3",
   "name": "python3"
  },
  "language_info": {
   "codemirror_mode": {
    "name": "ipython",
    "version": 3
   },
   "file_extension": ".py",
   "mimetype": "text/x-python",
   "name": "python",
   "nbconvert_exporter": "python",
   "pygments_lexer": "ipython3",
   "version": "3.10.6"
  }
 },
 "nbformat": 4,
 "nbformat_minor": 0
}
